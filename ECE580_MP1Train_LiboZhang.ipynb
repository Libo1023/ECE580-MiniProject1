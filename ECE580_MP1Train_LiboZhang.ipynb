{
 "cells": [
  {
   "cell_type": "code",
   "execution_count": 1,
   "id": "8238ae91",
   "metadata": {},
   "outputs": [],
   "source": [
    "import math\n",
    "import imageio\n",
    "import warnings\n",
    "warnings.filterwarnings(\"ignore\")\n",
    "\n",
    "import numpy as np\n",
    "import matplotlib.pyplot as plt\n",
    "%matplotlib inline\n",
    "\n",
    "from math import cos, sqrt, pi\n",
    "from scipy import ndimage\n",
    "from sklearn.metrics import mean_squared_error\n",
    "from sklearn.linear_model import Lasso"
   ]
  },
  {
   "cell_type": "code",
   "execution_count": 2,
   "id": "bd97c896",
   "metadata": {},
   "outputs": [],
   "source": [
    "def imgRead(fileName):\n",
    "    imgIn = plt.imread(fileName)\n",
    "    return imgIn\n",
    "\n",
    "def imgShow(imgOut):\n",
    "    imgOut = np.uint8(imgOut)\n",
    "    plt.imshow(imgOut, cmap = \"gray\")\n",
    "    return None\n",
    "\n",
    "def imgSave(img_name, img_arr):\n",
    "    imageio.imwrite(img_name, img_arr)\n",
    "    return None"
   ]
  },
  {
   "cell_type": "code",
   "execution_count": 3,
   "id": "e490fb72",
   "metadata": {},
   "outputs": [],
   "source": [
    "# filename1 = \"fishing_boat.bmp\"\n",
    "# filename2 = \"nature.bmp\"\n",
    "# image1 = imgRead(filename1)\n",
    "# image2 = imgRead(filename2)\n",
    "# print(type(image1))\n",
    "# print(type(image2))\n",
    "# print(image1.shape)\n",
    "# print(image2.shape)"
   ]
  },
  {
   "cell_type": "code",
   "execution_count": 4,
   "id": "5234471a",
   "metadata": {},
   "outputs": [],
   "source": [
    "# imgShow(image1)"
   ]
  },
  {
   "cell_type": "code",
   "execution_count": 5,
   "id": "474ebf92",
   "metadata": {},
   "outputs": [],
   "source": [
    "# imgShow(image2)"
   ]
  },
  {
   "cell_type": "code",
   "execution_count": 6,
   "id": "d8bf8413",
   "metadata": {},
   "outputs": [],
   "source": [
    "# plt.imshow(np.uint8(image1), cmap = \"gray\")"
   ]
  },
  {
   "cell_type": "code",
   "execution_count": 7,
   "id": "25017695",
   "metadata": {},
   "outputs": [],
   "source": [
    "# plt.imshow(np.uint8(image2), cmap = \"gray\")"
   ]
  },
  {
   "cell_type": "code",
   "execution_count": 8,
   "id": "0a5d1d19",
   "metadata": {},
   "outputs": [],
   "source": [
    "def break_image (image, K) : \n",
    "    w_in = image.shape[0]\n",
    "    h_in = image.shape[1]\n",
    "    w_out = int(w_in / K)\n",
    "    h_out = int(h_in / K)\n",
    "    blocks = np.zeros((w_out, h_out, K, K))\n",
    "    w_index = 0\n",
    "    h_index = 0\n",
    "    for i in range(0, w_in, K) :\n",
    "        for j in range(0, h_in, K) :\n",
    "            blocks[w_index, h_index, :, :] = image[i:i+K, j:j+K]\n",
    "            h_index = h_index + 1\n",
    "        h_index = 0\n",
    "        w_index = w_index + 1\n",
    "    return np.uint8(blocks)"
   ]
  },
  {
   "cell_type": "code",
   "execution_count": 9,
   "id": "1e5aadaa",
   "metadata": {},
   "outputs": [],
   "source": [
    "def combine_blocks (blocks) :\n",
    "    K = blocks.shape[2]\n",
    "    W = int(blocks.shape[0] * K)\n",
    "    H = int(blocks.shape[1] * K)\n",
    "    width = 0\n",
    "    height = 0\n",
    "    full_img = np.zeros((W, H))\n",
    "    for i in range(0, W, K) :\n",
    "        for j in range(0, H, K) :\n",
    "            full_img[i:i+K, j:j+K] = blocks[width, height, :, :]\n",
    "            height = height + 1\n",
    "        height = 0\n",
    "        width = width + 1\n",
    "    return np.uint8(full_img)"
   ]
  },
  {
   "cell_type": "code",
   "execution_count": 10,
   "id": "10cdeeb6",
   "metadata": {},
   "outputs": [],
   "source": [
    "# img1_blocks = break_image(image1, 8)\n",
    "# img2_blocks = break_image(image2, 16)\n",
    "# print(type(img1_blocks))\n",
    "# print(type(img2_blocks))\n",
    "# print(img1_blocks.shape)\n",
    "# print(img2_blocks.shape)\n",
    "# print(np.allclose(image1[0:8, 0:8], img1_blocks[0, 0, :, :]))\n",
    "# print(np.allclose(image2[0:16, 0:16], img2_blocks[0, 0, :, :]))"
   ]
  },
  {
   "cell_type": "code",
   "execution_count": 11,
   "id": "79f5ec0b",
   "metadata": {},
   "outputs": [],
   "source": [
    "# # New test cases after Peer Feedback 1\n",
    "# recon_img1 = combine_blocks(img1_blocks)\n",
    "# recon_img2 = combine_blocks(img2_blocks)\n",
    "# print(image1.shape)\n",
    "# print(recon_img1.shape)\n",
    "# print(image2.shape)\n",
    "# print(recon_img2.shape)"
   ]
  },
  {
   "cell_type": "code",
   "execution_count": 12,
   "id": "5f6ca6cc",
   "metadata": {},
   "outputs": [],
   "source": [
    "# # New test cases after Peer Feedback 1\n",
    "# plt.imshow(recon_img1, cmap = \"gray\")"
   ]
  },
  {
   "cell_type": "code",
   "execution_count": 13,
   "id": "2b82a748",
   "metadata": {},
   "outputs": [],
   "source": [
    "# # New test cases after Peer Feedback 1\n",
    "# plt.imshow(recon_img2, cmap = \"gray\")"
   ]
  },
  {
   "cell_type": "code",
   "execution_count": 14,
   "id": "1880c34b",
   "metadata": {},
   "outputs": [],
   "source": [
    "def sample_block (img_block, S) :\n",
    "    flat_block = img_block.flatten()\n",
    "    sampling_block = np.zeros((S,))\n",
    "    pixel_indices = np.arange(len(flat_block))\n",
    "    sample_indices = np.random.choice(pixel_indices, \n",
    "                                      size = (S,), replace = False)\n",
    "    sample_indices.sort()\n",
    "    for i in range(S) :\n",
    "        sampling_block[i] = flat_block[sample_indices[i]]\n",
    "    return sample_indices, np.uint8(sampling_block)\n",
    "\n",
    "# test_block = img1_blocks[0, 0, :, :]\n",
    "# test_indices, test_samples = sample_block(test_block, S = 10)\n",
    "# print(test_indices.shape)\n",
    "# print(test_samples.shape)\n",
    "# print(test_indices)\n",
    "# print(test_samples)\n",
    "# print(type(test_samples[0]))"
   ]
  },
  {
   "cell_type": "code",
   "execution_count": 15,
   "id": "c83050ae",
   "metadata": {},
   "outputs": [],
   "source": [
    "def calculate_dct (x, y, u, v, K) :\n",
    "    if u == 0 :\n",
    "        alpha_u = sqrt(float(1) / K)\n",
    "    else :\n",
    "        alpha_u = sqrt(float(2) / K)\n",
    "    if v == 0 :\n",
    "        beta_v = sqrt(float(1) / K)\n",
    "    else :\n",
    "        beta_v = sqrt(float(2) / K)\n",
    "    first  = alpha_u * beta_v\n",
    "    second = cos(float(pi * (2 * x + 1) * u) / (2 * K))\n",
    "    third  = cos(float(pi * (2 * y + 1) * v) / (2 * K))\n",
    "    T_xy = first * second * third\n",
    "    return T_xy"
   ]
  },
  {
   "cell_type": "code",
   "execution_count": 16,
   "id": "6ac1e1e2",
   "metadata": {},
   "outputs": [],
   "source": [
    "def calculate_basis (u, v, K) :\n",
    "    basis_function = np.zeros((K, K))\n",
    "    for x in range(K) :\n",
    "        for y in range(K) :\n",
    "            basis_function[x, y] = calculate_dct(x, y, u, v, K)\n",
    "    return basis_function\n",
    "\n",
    "def calculate_transformation (K) :\n",
    "    T = np.zeros((K, K, K * K))\n",
    "    D_index = 0\n",
    "    for u in range(K) :\n",
    "        for v in range(K) :\n",
    "            T[:, :, D_index] = calculate_basis(u, v, K)\n",
    "            D_index = D_index + 1\n",
    "    T_rasterized = np.reshape(T, (T.shape[0] * T.shape[1], T.shape[2]))\n",
    "    return T, T_rasterized\n",
    "\n",
    "def sample_transformation (indices, T_rasterized) :\n",
    "    S = len(indices)\n",
    "    D = T_rasterized.shape[1]\n",
    "    A_rasterized = np.zeros((S, D))\n",
    "    for i in range(S) :\n",
    "        A_rasterized[i, :] = T_rasterized[indices[i], :]\n",
    "    return A_rasterized\n",
    "\n",
    "def display_transformation (T) :\n",
    "    plt.figure(figsize = (30, 20))\n",
    "    for i in range(T.shape[2]) :\n",
    "        plt.subplot(T.shape[0], T.shape[1], i + 1)\n",
    "        plt.axis(\"off\")\n",
    "        plt.imshow(T[:, :, i], cmap = \"gray\")"
   ]
  },
  {
   "cell_type": "code",
   "execution_count": 17,
   "id": "a9fede5b",
   "metadata": {},
   "outputs": [],
   "source": [
    "# T_small, Tr_small = calculate_transformation(8)\n",
    "# T_large, Tr_large = calculate_transformation(16)\n",
    "# print(T_small.shape)\n",
    "# print(Tr_small.shape)\n",
    "# print(T_large.shape)\n",
    "# print(Tr_large.shape)\n",
    "# # display_transformation(T_small)\n",
    "# # display_transformation(T_large)"
   ]
  },
  {
   "cell_type": "code",
   "execution_count": 18,
   "id": "70851fd0",
   "metadata": {},
   "outputs": [],
   "source": [
    "# # Implement LASSO regression to estimate DCT coefficients for a single block\n",
    "# # First, try the small image with one single block\n",
    "# block1 = img1_blocks[10, 10, :, :]\n",
    "# # samples = B = A * Weights\n",
    "# indices1, B1 = sample_block(block1, S = 50)\n",
    "# A1 = sample_transformation(indices1, Tr_small)\n",
    "# model1 = Lasso(alpha = 0.1)\n",
    "# model1.fit(A1, B1)"
   ]
  },
  {
   "cell_type": "code",
   "execution_count": 19,
   "id": "9f2de860",
   "metadata": {},
   "outputs": [],
   "source": [
    "# # Implement LASSO regression to estimate DCT coefficients for a single block\n",
    "# # Second, try the large image with one single block\n",
    "# block2 = img2_blocks[10, 10, :, :]\n",
    "# indices2, B2 = sample_block(block2, S = 150)\n",
    "# A2 = sample_transformation(indices2, Tr_large)\n",
    "# model2 = Lasso(alpha = 0.01)\n",
    "# model2.fit(A2, B2)"
   ]
  },
  {
   "cell_type": "code",
   "execution_count": 20,
   "id": "365a98c6",
   "metadata": {},
   "outputs": [],
   "source": [
    "# print(model1.score(A1, B1))\n",
    "# print(model2.score(A2, B2))\n",
    "# print(len(model1.coef_))\n",
    "# print(len(model2.coef_))"
   ]
  },
  {
   "cell_type": "code",
   "execution_count": 21,
   "id": "d7b376c7",
   "metadata": {},
   "outputs": [],
   "source": [
    "#model1.coef_"
   ]
  },
  {
   "cell_type": "code",
   "execution_count": 22,
   "id": "61b3fa27",
   "metadata": {},
   "outputs": [],
   "source": [
    "#print(model2.coef_)"
   ]
  },
  {
   "cell_type": "code",
   "execution_count": 23,
   "id": "fbc68dd9",
   "metadata": {},
   "outputs": [],
   "source": [
    "###########################################################################"
   ]
  },
  {
   "cell_type": "code",
   "execution_count": 24,
   "id": "7b9a69e1",
   "metadata": {},
   "outputs": [],
   "source": [
    "# alphas = np.array([1e-6, 1e-5, 1e-4, 1e-3, 1e-2, 1e-1, 1e-0, \n",
    "#                    1e+1, 1e+2, 1e+3, 1e+4, 1e+5, 1e+6])\n",
    "# for alpha in alphas :\n",
    "#     print(\"%.6f\" % alpha)"
   ]
  },
  {
   "cell_type": "code",
   "execution_count": 25,
   "id": "56a3c7f2",
   "metadata": {},
   "outputs": [],
   "source": [
    "# a = np.arange(10)\n",
    "# b = np.array([3, 2, 1, 9])\n",
    "# c = np.setdiff1d(a, b)\n",
    "# print(a)\n",
    "# print(b)\n",
    "# print(c)"
   ]
  },
  {
   "cell_type": "code",
   "execution_count": 26,
   "id": "eaee6e6b",
   "metadata": {},
   "outputs": [],
   "source": [
    "# a = np.array([1, 2, 3, 4, 5])\n",
    "# b = np.array([[1, 1, 1], \n",
    "#               [2, 2, 2], \n",
    "#               [3, 3, 3]])\n",
    "# c = 2 * a\n",
    "# d = 2 * b\n",
    "# print(c)\n",
    "# print(d)\n",
    "# print(sqrt(64))"
   ]
  },
  {
   "cell_type": "code",
   "execution_count": 27,
   "id": "084dd016",
   "metadata": {},
   "outputs": [],
   "source": [
    "def adj_data (X) :\n",
    "    n_samples = X.shape[0]\n",
    "    adj_X = sqrt(2 * n_samples) * X\n",
    "    return adj_X"
   ]
  },
  {
   "cell_type": "code",
   "execution_count": 28,
   "id": "34679519",
   "metadata": {},
   "outputs": [],
   "source": [
    "def cross_valid_ransub (block, indices, alphas, Tr) :\n",
    "    M = 20\n",
    "    m = int(np.floor(len(indices) / 6))\n",
    "    mse_sum    = 0\n",
    "    curr_error = 0\n",
    "    best_error = math.inf\n",
    "    best_alpha = alphas[0]\n",
    "    flat_block = block.flatten()\n",
    "    for curr_alpha in alphas :\n",
    "        for each_time in range(M) :\n",
    "            test_index = np.random.choice(indices, size = (m, ), \n",
    "                                          replace = False)\n",
    "            test_index.sort()\n",
    "            A_test = sample_transformation(test_index, Tr)\n",
    "            B_test = flat_block[test_index]\n",
    "            train_index = np.setdiff1d(indices, test_index)\n",
    "            train_index.sort()\n",
    "            A_train = sample_transformation(train_index, Tr)\n",
    "            B_train = flat_block[train_index]\n",
    "            model = Lasso(alpha = curr_alpha, fit_intercept = False)\n",
    "            model.fit(adj_data(A_train), adj_data(B_train))\n",
    "            preds = model.predict(A_test)\n",
    "            mse_sum = mse_sum + mean_squared_error(y_true = B_test, \n",
    "                                                   y_pred = preds)\n",
    "        curr_error = float(mse_sum) / M\n",
    "        if curr_error < best_error :\n",
    "            best_error = curr_error\n",
    "            best_alpha = curr_alpha\n",
    "        mse_sum = 0\n",
    "    return best_alpha"
   ]
  },
  {
   "cell_type": "code",
   "execution_count": 29,
   "id": "69b6c963",
   "metadata": {},
   "outputs": [],
   "source": [
    "def imgRecover(imgIn, blkSize, numSample):\n",
    "    \"\"\"\n",
    "    Recover the input image from a small size samples\n",
    "    :param imgIn: input image\n",
    "    :param blkSize: block size\n",
    "    :param numSample: how many samples in each block\n",
    "    :return: recovered image\n",
    "    \"\"\"\n",
    "    ##### Your Implementation here\n",
    "    \n",
    "    # (1) Break image into K * K blocks\n",
    "    img_blocks = break_image(imgIn, blkSize)\n",
    "    \n",
    "    #####################################################################\n",
    "    # Some important and useful operations\n",
    "    alphas = np.array([1e-6, 0.5*1e-5, 1e-5, 0.5*1e-4, 1e-4, \n",
    "                             0.5*1e-3, 1e-3, 0.5*1e-2, 1e-2, \n",
    "                             0.5*1e-1, 1e-1, 0.5*1e-0, 1e-0, \n",
    "                             0.5*1e+1, 1e+1, 0.5*1e+2, 1e+2, \n",
    "                             0.5*1e+3, 1e+3, 0.5*1e+4, 1e+4, \n",
    "                             0.5*1e+5, 1e+5, 0.5*1e+6, 1e+6])\n",
    "    T_basis, Tr = calculate_transformation(blkSize)\n",
    "    imgWidth = imgIn.shape[0]\n",
    "    imgHeight = imgIn.shape[1]\n",
    "    recover_blocks = np.zeros((int(imgWidth / blkSize), \n",
    "                               int(imgHeight / blkSize), \n",
    "                               blkSize, blkSize))\n",
    "    #####################################################################\n",
    "    \n",
    "    # (2) For each block: \n",
    "    for i in range(img_blocks.shape[0]) :\n",
    "        \n",
    "        print(\"Current Block Row Index = %i\" % (i + 1))\n",
    "        \n",
    "        for j in range(img_blocks.shape[1]) :\n",
    "            \n",
    "            # Indicate current progress\n",
    "            # print(\"Implement cross-validation to current block\")\n",
    "            # print(\"Current block [i, j] is: \", i+1, j+1)\n",
    "            \n",
    "            block = img_blocks[i, j, :, :]\n",
    "            \n",
    "            # Randomly sample S pixels without replacement\n",
    "            indices, samples_B = sample_block(block, numSample)\n",
    "            \n",
    "            # Determine DCT coefficients from the S samples\n",
    "            ### alpha is determined by random subsets cross validation\n",
    "            ### S sampled pixels remain the same through cross-validation\n",
    "            ### m test pixels vary with each iteration\n",
    "            best_alpha = cross_valid_ransub(block, indices, alphas, Tr)\n",
    "            \n",
    "            # print(\"The best alpha for current block is %.6f!\"%best_alpha)\n",
    "            # print(\" \")\n",
    "            \n",
    "            ### Given optimal alpha identified through cross validation, \n",
    "            ### use all S samples to find DCT coefficients.\n",
    "            samples_A = sample_transformation(indices, Tr)\n",
    "            model = Lasso(alpha = best_alpha, fit_intercept = False)\n",
    "            model.fit(adj_data(samples_A), adj_data(samples_B))\n",
    "            dct_coef = model.coef_\n",
    "            \n",
    "            # Apply inverse DCT transform to recover the block\n",
    "            # recover_blocks[i,j,:,:] = np.uint8(np.dot(T_basis,dct_coef))\n",
    "            C = np.uint8(np.dot(Tr, dct_coef))\n",
    "            \n",
    "            ############################################################\n",
    "            # Recover/estimate ONLY the missing pixels\n",
    "            block_flat = block.flatten()\n",
    "            for sample_index in indices :\n",
    "                C[sample_index] = block_flat[sample_index]\n",
    "                # Keep the sampled pixels unchanged\n",
    "            ############################################################\n",
    "            \n",
    "            w = 0\n",
    "            for x in range(0, len(C), blkSize) :\n",
    "                recover_blocks[i, j, w, :] = C[x:x+blkSize]\n",
    "                w = w + 1\n",
    "    \n",
    "    # (3) Combine (concatenate) all recovered blocks into a full image\n",
    "    # Recovered image without median filtering\n",
    "    full_img = combine_blocks(recover_blocks)\n",
    "    \n",
    "    # (4) Apply median filter to improve image quality\n",
    "    # Recovered image with median filtering\n",
    "    recovered_image = ndimage.median_filter(full_img, size = (3, 3))\n",
    "    \n",
    "    return full_img, recovered_image"
   ]
  },
  {
   "cell_type": "code",
   "execution_count": 30,
   "id": "5f840aa0",
   "metadata": {},
   "outputs": [],
   "source": [
    "##########################################################################"
   ]
  },
  {
   "cell_type": "code",
   "execution_count": 31,
   "id": "7b3376b2",
   "metadata": {},
   "outputs": [
    {
     "name": "stdout",
     "output_type": "stream",
     "text": [
      "(200, 192)\n",
      "(512, 640)\n"
     ]
    }
   ],
   "source": [
    "img_small = imgRead(\"fishing_boat.bmp\")\n",
    "img_large = imgRead(\"nature.bmp\")\n",
    "print(img_small.shape)\n",
    "print(img_large.shape)"
   ]
  },
  {
   "cell_type": "code",
   "execution_count": 32,
   "id": "f25c99a3",
   "metadata": {},
   "outputs": [],
   "source": [
    "small_nofilter_list = [\"saved_small_nofilter_s10.bmp\", \n",
    "                       \"saved_small_nofilter_s20.bmp\", \n",
    "                       \"saved_small_nofilter_s30.bmp\", \n",
    "                       \"saved_small_nofilter_s40.bmp\", \n",
    "                       \"saved_small_nofilter_s50.bmp\"]"
   ]
  },
  {
   "cell_type": "code",
   "execution_count": 33,
   "id": "4dc1fd26",
   "metadata": {},
   "outputs": [],
   "source": [
    "small_withfilter_list = [\"saved_small_withfilter_s10.bmp\", \n",
    "                         \"saved_small_withfilter_s20.bmp\", \n",
    "                         \"saved_small_withfilter_s30.bmp\", \n",
    "                         \"saved_small_withfilter_s40.bmp\", \n",
    "                         \"saved_small_withfilter_s50.bmp\"]"
   ]
  },
  {
   "cell_type": "code",
   "execution_count": 34,
   "id": "d0ef3625",
   "metadata": {},
   "outputs": [],
   "source": [
    "large_nofilter_list = [\"saved_large_nofilter_s10.bmp\", \n",
    "                       \"saved_large_nofilter_s30.bmp\", \n",
    "                       \"saved_large_nofilter_s50.bmp\", \n",
    "                       \"saved_large_nofilter_s100.bmp\", \n",
    "                       \"saved_large_nofilter_s150.bmp\"]"
   ]
  },
  {
   "cell_type": "code",
   "execution_count": 35,
   "id": "487b8ced",
   "metadata": {},
   "outputs": [],
   "source": [
    "large_withfilter_list = [\"saved_large_withfilter_s10.bmp\", \n",
    "                         \"saved_large_withfilter_s30.bmp\", \n",
    "                         \"saved_large_withfilter_s50.bmp\", \n",
    "                         \"saved_large_withfilter_s100.bmp\", \n",
    "                         \"saved_large_withfilter_s150.bmp\"]"
   ]
  },
  {
   "cell_type": "code",
   "execution_count": 36,
   "id": "25eafd2d",
   "metadata": {},
   "outputs": [],
   "source": [
    "##########################################################################"
   ]
  },
  {
   "cell_type": "code",
   "execution_count": 37,
   "id": "d96d69f3",
   "metadata": {},
   "outputs": [
    {
     "name": "stdout",
     "output_type": "stream",
     "text": [
      "Current Block Row Index = 1\n",
      "Current Block Row Index = 2\n",
      "Current Block Row Index = 3\n",
      "Current Block Row Index = 4\n",
      "Current Block Row Index = 5\n",
      "Current Block Row Index = 6\n",
      "Current Block Row Index = 7\n",
      "Current Block Row Index = 8\n",
      "Current Block Row Index = 9\n",
      "Current Block Row Index = 10\n",
      "Current Block Row Index = 11\n",
      "Current Block Row Index = 12\n",
      "Current Block Row Index = 13\n",
      "Current Block Row Index = 14\n",
      "Current Block Row Index = 15\n",
      "Current Block Row Index = 16\n",
      "Current Block Row Index = 17\n",
      "Current Block Row Index = 18\n",
      "Current Block Row Index = 19\n",
      "Current Block Row Index = 20\n",
      "Current Block Row Index = 21\n",
      "Current Block Row Index = 22\n",
      "Current Block Row Index = 23\n",
      "Current Block Row Index = 24\n",
      "Current Block Row Index = 25\n"
     ]
    }
   ],
   "source": [
    "reimg_s_nof_10, reimg_s_f_10 = imgRecover(img_small, 8, 10)\n",
    "imgSave(small_nofilter_list[0], reimg_s_nof_10)\n",
    "imgSave(small_withfilter_list[0], reimg_s_f_10)"
   ]
  },
  {
   "cell_type": "code",
   "execution_count": 38,
   "id": "32463c37",
   "metadata": {},
   "outputs": [
    {
     "name": "stdout",
     "output_type": "stream",
     "text": [
      "Current Block Row Index = 1\n",
      "Current Block Row Index = 2\n",
      "Current Block Row Index = 3\n",
      "Current Block Row Index = 4\n",
      "Current Block Row Index = 5\n",
      "Current Block Row Index = 6\n",
      "Current Block Row Index = 7\n",
      "Current Block Row Index = 8\n",
      "Current Block Row Index = 9\n",
      "Current Block Row Index = 10\n",
      "Current Block Row Index = 11\n",
      "Current Block Row Index = 12\n",
      "Current Block Row Index = 13\n",
      "Current Block Row Index = 14\n",
      "Current Block Row Index = 15\n",
      "Current Block Row Index = 16\n",
      "Current Block Row Index = 17\n",
      "Current Block Row Index = 18\n",
      "Current Block Row Index = 19\n",
      "Current Block Row Index = 20\n",
      "Current Block Row Index = 21\n",
      "Current Block Row Index = 22\n",
      "Current Block Row Index = 23\n",
      "Current Block Row Index = 24\n",
      "Current Block Row Index = 25\n"
     ]
    }
   ],
   "source": [
    "reimg_s_nof_20, reimg_s_f_20 = imgRecover(img_small, 8, 20)\n",
    "imgSave(small_nofilter_list[1], reimg_s_nof_20)\n",
    "imgSave(small_withfilter_list[1], reimg_s_f_20)"
   ]
  },
  {
   "cell_type": "code",
   "execution_count": 39,
   "id": "ca0daf29",
   "metadata": {},
   "outputs": [
    {
     "name": "stdout",
     "output_type": "stream",
     "text": [
      "Current Block Row Index = 1\n",
      "Current Block Row Index = 2\n",
      "Current Block Row Index = 3\n",
      "Current Block Row Index = 4\n",
      "Current Block Row Index = 5\n",
      "Current Block Row Index = 6\n",
      "Current Block Row Index = 7\n",
      "Current Block Row Index = 8\n",
      "Current Block Row Index = 9\n",
      "Current Block Row Index = 10\n",
      "Current Block Row Index = 11\n",
      "Current Block Row Index = 12\n",
      "Current Block Row Index = 13\n",
      "Current Block Row Index = 14\n",
      "Current Block Row Index = 15\n",
      "Current Block Row Index = 16\n",
      "Current Block Row Index = 17\n",
      "Current Block Row Index = 18\n",
      "Current Block Row Index = 19\n",
      "Current Block Row Index = 20\n",
      "Current Block Row Index = 21\n",
      "Current Block Row Index = 22\n",
      "Current Block Row Index = 23\n",
      "Current Block Row Index = 24\n",
      "Current Block Row Index = 25\n"
     ]
    }
   ],
   "source": [
    "reimg_s_nof_30, reimg_s_f_30 = imgRecover(img_small, 8, 30)\n",
    "imgSave(small_nofilter_list[2], reimg_s_nof_30)\n",
    "imgSave(small_withfilter_list[2], reimg_s_f_30)"
   ]
  },
  {
   "cell_type": "code",
   "execution_count": 40,
   "id": "17331f80",
   "metadata": {},
   "outputs": [
    {
     "name": "stdout",
     "output_type": "stream",
     "text": [
      "Current Block Row Index = 1\n",
      "Current Block Row Index = 2\n",
      "Current Block Row Index = 3\n",
      "Current Block Row Index = 4\n",
      "Current Block Row Index = 5\n",
      "Current Block Row Index = 6\n",
      "Current Block Row Index = 7\n",
      "Current Block Row Index = 8\n",
      "Current Block Row Index = 9\n",
      "Current Block Row Index = 10\n",
      "Current Block Row Index = 11\n",
      "Current Block Row Index = 12\n",
      "Current Block Row Index = 13\n",
      "Current Block Row Index = 14\n",
      "Current Block Row Index = 15\n",
      "Current Block Row Index = 16\n",
      "Current Block Row Index = 17\n",
      "Current Block Row Index = 18\n",
      "Current Block Row Index = 19\n",
      "Current Block Row Index = 20\n",
      "Current Block Row Index = 21\n",
      "Current Block Row Index = 22\n",
      "Current Block Row Index = 23\n",
      "Current Block Row Index = 24\n",
      "Current Block Row Index = 25\n"
     ]
    }
   ],
   "source": [
    "reimg_s_nof_40, reimg_s_f_40 = imgRecover(img_small, 8, 40)\n",
    "imgSave(small_nofilter_list[3], reimg_s_nof_40)\n",
    "imgSave(small_withfilter_list[3], reimg_s_f_40)"
   ]
  },
  {
   "cell_type": "code",
   "execution_count": 41,
   "id": "ffb19774",
   "metadata": {},
   "outputs": [
    {
     "name": "stdout",
     "output_type": "stream",
     "text": [
      "Current Block Row Index = 1\n",
      "Current Block Row Index = 2\n",
      "Current Block Row Index = 3\n",
      "Current Block Row Index = 4\n",
      "Current Block Row Index = 5\n",
      "Current Block Row Index = 6\n",
      "Current Block Row Index = 7\n",
      "Current Block Row Index = 8\n",
      "Current Block Row Index = 9\n",
      "Current Block Row Index = 10\n",
      "Current Block Row Index = 11\n",
      "Current Block Row Index = 12\n",
      "Current Block Row Index = 13\n",
      "Current Block Row Index = 14\n",
      "Current Block Row Index = 15\n",
      "Current Block Row Index = 16\n",
      "Current Block Row Index = 17\n",
      "Current Block Row Index = 18\n",
      "Current Block Row Index = 19\n",
      "Current Block Row Index = 20\n",
      "Current Block Row Index = 21\n",
      "Current Block Row Index = 22\n",
      "Current Block Row Index = 23\n",
      "Current Block Row Index = 24\n",
      "Current Block Row Index = 25\n"
     ]
    }
   ],
   "source": [
    "reimg_s_nof_50, reimg_s_f_50 = imgRecover(img_small, 8, 50)\n",
    "imgSave(small_nofilter_list[4], reimg_s_nof_50)\n",
    "imgSave(small_withfilter_list[4], reimg_s_f_50)"
   ]
  },
  {
   "cell_type": "code",
   "execution_count": 42,
   "id": "02b15054",
   "metadata": {},
   "outputs": [
    {
     "name": "stdout",
     "output_type": "stream",
     "text": [
      "Current Block Row Index = 1\n",
      "Current Block Row Index = 2\n",
      "Current Block Row Index = 3\n",
      "Current Block Row Index = 4\n",
      "Current Block Row Index = 5\n",
      "Current Block Row Index = 6\n",
      "Current Block Row Index = 7\n",
      "Current Block Row Index = 8\n",
      "Current Block Row Index = 9\n",
      "Current Block Row Index = 10\n",
      "Current Block Row Index = 11\n",
      "Current Block Row Index = 12\n",
      "Current Block Row Index = 13\n",
      "Current Block Row Index = 14\n",
      "Current Block Row Index = 15\n",
      "Current Block Row Index = 16\n",
      "Current Block Row Index = 17\n",
      "Current Block Row Index = 18\n",
      "Current Block Row Index = 19\n",
      "Current Block Row Index = 20\n",
      "Current Block Row Index = 21\n",
      "Current Block Row Index = 22\n",
      "Current Block Row Index = 23\n",
      "Current Block Row Index = 24\n",
      "Current Block Row Index = 25\n",
      "Current Block Row Index = 26\n",
      "Current Block Row Index = 27\n",
      "Current Block Row Index = 28\n",
      "Current Block Row Index = 29\n",
      "Current Block Row Index = 30\n",
      "Current Block Row Index = 31\n",
      "Current Block Row Index = 32\n"
     ]
    }
   ],
   "source": [
    "reimg_l_nof_10, reimg_l_f_10 = imgRecover(img_large, 16, 10)\n",
    "imgSave(large_nofilter_list[0], reimg_l_nof_10)\n",
    "imgSave(large_withfilter_list[0], reimg_l_f_10)"
   ]
  },
  {
   "cell_type": "code",
   "execution_count": 43,
   "id": "f1af877d",
   "metadata": {},
   "outputs": [
    {
     "name": "stdout",
     "output_type": "stream",
     "text": [
      "Current Block Row Index = 1\n",
      "Current Block Row Index = 2\n",
      "Current Block Row Index = 3\n",
      "Current Block Row Index = 4\n",
      "Current Block Row Index = 5\n",
      "Current Block Row Index = 6\n",
      "Current Block Row Index = 7\n",
      "Current Block Row Index = 8\n",
      "Current Block Row Index = 9\n",
      "Current Block Row Index = 10\n",
      "Current Block Row Index = 11\n",
      "Current Block Row Index = 12\n",
      "Current Block Row Index = 13\n",
      "Current Block Row Index = 14\n",
      "Current Block Row Index = 15\n",
      "Current Block Row Index = 16\n",
      "Current Block Row Index = 17\n",
      "Current Block Row Index = 18\n",
      "Current Block Row Index = 19\n",
      "Current Block Row Index = 20\n",
      "Current Block Row Index = 21\n",
      "Current Block Row Index = 22\n",
      "Current Block Row Index = 23\n",
      "Current Block Row Index = 24\n",
      "Current Block Row Index = 25\n",
      "Current Block Row Index = 26\n",
      "Current Block Row Index = 27\n",
      "Current Block Row Index = 28\n",
      "Current Block Row Index = 29\n",
      "Current Block Row Index = 30\n",
      "Current Block Row Index = 31\n",
      "Current Block Row Index = 32\n"
     ]
    }
   ],
   "source": [
    "reimg_l_nof_30, reimg_l_f_30 = imgRecover(img_large, 16, 30)\n",
    "imgSave(large_nofilter_list[1], reimg_l_nof_30)\n",
    "imgSave(large_withfilter_list[1], reimg_l_f_30)"
   ]
  },
  {
   "cell_type": "code",
   "execution_count": 44,
   "id": "f59865a1",
   "metadata": {},
   "outputs": [
    {
     "name": "stdout",
     "output_type": "stream",
     "text": [
      "Current Block Row Index = 1\n",
      "Current Block Row Index = 2\n",
      "Current Block Row Index = 3\n",
      "Current Block Row Index = 4\n",
      "Current Block Row Index = 5\n",
      "Current Block Row Index = 6\n",
      "Current Block Row Index = 7\n",
      "Current Block Row Index = 8\n",
      "Current Block Row Index = 9\n",
      "Current Block Row Index = 10\n",
      "Current Block Row Index = 11\n",
      "Current Block Row Index = 12\n",
      "Current Block Row Index = 13\n",
      "Current Block Row Index = 14\n",
      "Current Block Row Index = 15\n",
      "Current Block Row Index = 16\n",
      "Current Block Row Index = 17\n",
      "Current Block Row Index = 18\n",
      "Current Block Row Index = 19\n",
      "Current Block Row Index = 20\n",
      "Current Block Row Index = 21\n",
      "Current Block Row Index = 22\n",
      "Current Block Row Index = 23\n",
      "Current Block Row Index = 24\n",
      "Current Block Row Index = 25\n",
      "Current Block Row Index = 26\n",
      "Current Block Row Index = 27\n",
      "Current Block Row Index = 28\n",
      "Current Block Row Index = 29\n",
      "Current Block Row Index = 30\n",
      "Current Block Row Index = 31\n",
      "Current Block Row Index = 32\n"
     ]
    }
   ],
   "source": [
    "reimg_l_nof_50, reimg_l_f_50 = imgRecover(img_large, 16, 50)\n",
    "imgSave(large_nofilter_list[2], reimg_l_nof_50)\n",
    "imgSave(large_withfilter_list[2], reimg_l_f_50)"
   ]
  },
  {
   "cell_type": "code",
   "execution_count": 45,
   "id": "7fd4d581",
   "metadata": {},
   "outputs": [
    {
     "name": "stdout",
     "output_type": "stream",
     "text": [
      "Current Block Row Index = 1\n",
      "Current Block Row Index = 2\n",
      "Current Block Row Index = 3\n",
      "Current Block Row Index = 4\n",
      "Current Block Row Index = 5\n",
      "Current Block Row Index = 6\n",
      "Current Block Row Index = 7\n",
      "Current Block Row Index = 8\n",
      "Current Block Row Index = 9\n",
      "Current Block Row Index = 10\n",
      "Current Block Row Index = 11\n",
      "Current Block Row Index = 12\n",
      "Current Block Row Index = 13\n",
      "Current Block Row Index = 14\n",
      "Current Block Row Index = 15\n",
      "Current Block Row Index = 16\n",
      "Current Block Row Index = 17\n",
      "Current Block Row Index = 18\n",
      "Current Block Row Index = 19\n",
      "Current Block Row Index = 20\n",
      "Current Block Row Index = 21\n",
      "Current Block Row Index = 22\n",
      "Current Block Row Index = 23\n",
      "Current Block Row Index = 24\n",
      "Current Block Row Index = 25\n",
      "Current Block Row Index = 26\n",
      "Current Block Row Index = 27\n",
      "Current Block Row Index = 28\n",
      "Current Block Row Index = 29\n",
      "Current Block Row Index = 30\n",
      "Current Block Row Index = 31\n",
      "Current Block Row Index = 32\n"
     ]
    }
   ],
   "source": [
    "reimg_l_nof_100, reimg_l_f_100 = imgRecover(img_large, 16, 100)\n",
    "imgSave(large_nofilter_list[3], reimg_l_nof_100)\n",
    "imgSave(large_withfilter_list[3], reimg_l_f_100)"
   ]
  },
  {
   "cell_type": "code",
   "execution_count": 46,
   "id": "677d9e44",
   "metadata": {},
   "outputs": [
    {
     "name": "stdout",
     "output_type": "stream",
     "text": [
      "Current Block Row Index = 1\n",
      "Current Block Row Index = 2\n",
      "Current Block Row Index = 3\n",
      "Current Block Row Index = 4\n",
      "Current Block Row Index = 5\n",
      "Current Block Row Index = 6\n",
      "Current Block Row Index = 7\n",
      "Current Block Row Index = 8\n",
      "Current Block Row Index = 9\n",
      "Current Block Row Index = 10\n",
      "Current Block Row Index = 11\n",
      "Current Block Row Index = 12\n",
      "Current Block Row Index = 13\n",
      "Current Block Row Index = 14\n",
      "Current Block Row Index = 15\n",
      "Current Block Row Index = 16\n",
      "Current Block Row Index = 17\n",
      "Current Block Row Index = 18\n",
      "Current Block Row Index = 19\n",
      "Current Block Row Index = 20\n",
      "Current Block Row Index = 21\n",
      "Current Block Row Index = 22\n",
      "Current Block Row Index = 23\n",
      "Current Block Row Index = 24\n",
      "Current Block Row Index = 25\n",
      "Current Block Row Index = 26\n",
      "Current Block Row Index = 27\n",
      "Current Block Row Index = 28\n",
      "Current Block Row Index = 29\n",
      "Current Block Row Index = 30\n",
      "Current Block Row Index = 31\n",
      "Current Block Row Index = 32\n"
     ]
    }
   ],
   "source": [
    "reimg_l_nof_150, reimg_l_f_150 = imgRecover(img_large, 16, 150)\n",
    "imgSave(large_nofilter_list[4], reimg_l_nof_150)\n",
    "imgSave(large_withfilter_list[4], reimg_l_f_150)"
   ]
  },
  {
   "cell_type": "code",
   "execution_count": 47,
   "id": "cf0c8e64",
   "metadata": {},
   "outputs": [],
   "source": [
    "##########################################################################"
   ]
  },
  {
   "cell_type": "code",
   "execution_count": 48,
   "id": "bdbb13c9",
   "metadata": {},
   "outputs": [
    {
     "name": "stdout",
     "output_type": "stream",
     "text": [
      "True\n",
      "True\n",
      "True\n",
      "True\n",
      "True\n"
     ]
    }
   ],
   "source": [
    "print(np.allclose(imgRead(small_nofilter_list[0]), reimg_s_nof_10))\n",
    "print(np.allclose(imgRead(small_nofilter_list[1]), reimg_s_nof_20))\n",
    "print(np.allclose(imgRead(small_nofilter_list[2]), reimg_s_nof_30))\n",
    "print(np.allclose(imgRead(small_nofilter_list[3]), reimg_s_nof_40))\n",
    "print(np.allclose(imgRead(small_nofilter_list[4]), reimg_s_nof_50))"
   ]
  },
  {
   "cell_type": "code",
   "execution_count": 49,
   "id": "b69ee769",
   "metadata": {},
   "outputs": [
    {
     "name": "stdout",
     "output_type": "stream",
     "text": [
      "True\n",
      "True\n",
      "True\n",
      "True\n",
      "True\n"
     ]
    }
   ],
   "source": [
    "print(np.allclose(imgRead(small_withfilter_list[0]), reimg_s_f_10))\n",
    "print(np.allclose(imgRead(small_withfilter_list[1]), reimg_s_f_20))\n",
    "print(np.allclose(imgRead(small_withfilter_list[2]), reimg_s_f_30))\n",
    "print(np.allclose(imgRead(small_withfilter_list[3]), reimg_s_f_40))\n",
    "print(np.allclose(imgRead(small_withfilter_list[4]), reimg_s_f_50))"
   ]
  },
  {
   "cell_type": "code",
   "execution_count": 50,
   "id": "6f0f3306",
   "metadata": {},
   "outputs": [
    {
     "name": "stdout",
     "output_type": "stream",
     "text": [
      "True\n",
      "True\n",
      "True\n",
      "True\n",
      "True\n"
     ]
    }
   ],
   "source": [
    "print(np.allclose(imgRead(large_nofilter_list[0]), reimg_l_nof_10))\n",
    "print(np.allclose(imgRead(large_nofilter_list[1]), reimg_l_nof_30))\n",
    "print(np.allclose(imgRead(large_nofilter_list[2]), reimg_l_nof_50))\n",
    "print(np.allclose(imgRead(large_nofilter_list[3]), reimg_l_nof_100))\n",
    "print(np.allclose(imgRead(large_nofilter_list[4]), reimg_l_nof_150))"
   ]
  },
  {
   "cell_type": "code",
   "execution_count": 51,
   "id": "66b615e2",
   "metadata": {},
   "outputs": [
    {
     "name": "stdout",
     "output_type": "stream",
     "text": [
      "True\n",
      "True\n",
      "True\n",
      "True\n",
      "True\n"
     ]
    }
   ],
   "source": [
    "print(np.allclose(imgRead(large_withfilter_list[0]), reimg_l_f_10))\n",
    "print(np.allclose(imgRead(large_withfilter_list[1]), reimg_l_f_30))\n",
    "print(np.allclose(imgRead(large_withfilter_list[2]), reimg_l_f_50))\n",
    "print(np.allclose(imgRead(large_withfilter_list[3]), reimg_l_f_100))\n",
    "print(np.allclose(imgRead(large_withfilter_list[4]), reimg_l_f_150))"
   ]
  },
  {
   "cell_type": "code",
   "execution_count": null,
   "id": "f02ec905",
   "metadata": {},
   "outputs": [],
   "source": []
  },
  {
   "cell_type": "code",
   "execution_count": 52,
   "id": "a18bf8f3",
   "metadata": {},
   "outputs": [
    {
     "name": "stdout",
     "output_type": "stream",
     "text": [
      "Current Block Row Index = 1\n",
      "Current Block Row Index = 2\n",
      "Current Block Row Index = 3\n",
      "Current Block Row Index = 4\n",
      "Current Block Row Index = 5\n",
      "Current Block Row Index = 6\n",
      "Current Block Row Index = 7\n",
      "Current Block Row Index = 8\n",
      "Current Block Row Index = 9\n",
      "Current Block Row Index = 10\n",
      "Current Block Row Index = 11\n",
      "Current Block Row Index = 12\n",
      "Current Block Row Index = 13\n",
      "Current Block Row Index = 14\n",
      "Current Block Row Index = 15\n",
      "Current Block Row Index = 16\n",
      "Current Block Row Index = 17\n",
      "Current Block Row Index = 18\n",
      "Current Block Row Index = 19\n",
      "Current Block Row Index = 20\n",
      "Current Block Row Index = 21\n",
      "Current Block Row Index = 22\n",
      "Current Block Row Index = 23\n",
      "Current Block Row Index = 24\n",
      "Current Block Row Index = 25\n"
     ]
    }
   ],
   "source": [
    "reimg_s_nof_60, reimg_s_f_60 = imgRecover(img_small, 8, 60)\n",
    "imgSave(\"saved_smallEXTRA_nofilter_s60.bmp\", reimg_s_nof_60)\n",
    "imgSave(\"saved_smallEXTRA_withfilter_s60.bmp\", reimg_s_f_60)"
   ]
  },
  {
   "cell_type": "code",
   "execution_count": 53,
   "id": "1f209817",
   "metadata": {},
   "outputs": [
    {
     "name": "stdout",
     "output_type": "stream",
     "text": [
      "Current Block Row Index = 1\n",
      "Current Block Row Index = 2\n",
      "Current Block Row Index = 3\n",
      "Current Block Row Index = 4\n",
      "Current Block Row Index = 5\n",
      "Current Block Row Index = 6\n",
      "Current Block Row Index = 7\n",
      "Current Block Row Index = 8\n",
      "Current Block Row Index = 9\n",
      "Current Block Row Index = 10\n",
      "Current Block Row Index = 11\n",
      "Current Block Row Index = 12\n",
      "Current Block Row Index = 13\n",
      "Current Block Row Index = 14\n",
      "Current Block Row Index = 15\n",
      "Current Block Row Index = 16\n",
      "Current Block Row Index = 17\n",
      "Current Block Row Index = 18\n",
      "Current Block Row Index = 19\n",
      "Current Block Row Index = 20\n",
      "Current Block Row Index = 21\n",
      "Current Block Row Index = 22\n",
      "Current Block Row Index = 23\n",
      "Current Block Row Index = 24\n",
      "Current Block Row Index = 25\n",
      "Current Block Row Index = 26\n",
      "Current Block Row Index = 27\n",
      "Current Block Row Index = 28\n",
      "Current Block Row Index = 29\n",
      "Current Block Row Index = 30\n",
      "Current Block Row Index = 31\n",
      "Current Block Row Index = 32\n"
     ]
    }
   ],
   "source": [
    "reimg_l_nof_200, reimg_l_f_200 = imgRecover(img_large, 16, 200)\n",
    "imgSave(\"saved_largeEXTRA_nofilter_s200.bmp\", reimg_l_nof_200)\n",
    "imgSave(\"saved_largeEXTRA_withfilter_s200.bmp\", reimg_l_f_200)"
   ]
  },
  {
   "cell_type": "code",
   "execution_count": 54,
   "id": "9bfc4ffd",
   "metadata": {},
   "outputs": [
    {
     "name": "stdout",
     "output_type": "stream",
     "text": [
      "True\n",
      "True\n"
     ]
    }
   ],
   "source": [
    "#print(np.allclose(imgRead(\"saved_smallEXTRA_nofilter_s60.bmp\"), reimg_s_nof_60))\n",
    "#print(np.allclose(imgRead(\"saved_smallEXTRA_withfilter_s60.bmp\"), reimg_s_f_60))\n",
    "print(np.allclose(imgRead(\"saved_largeEXTRA_nofilter_s200.bmp\"), reimg_l_nof_200))\n",
    "print(np.allclose(imgRead(\"saved_largeEXTRA_withfilter_s200.bmp\"), reimg_l_f_200))"
   ]
  },
  {
   "cell_type": "code",
   "execution_count": 55,
   "id": "87329abf",
   "metadata": {},
   "outputs": [
    {
     "name": "stdout",
     "output_type": "stream",
     "text": [
      "True\n",
      "True\n"
     ]
    }
   ],
   "source": [
    "print(np.allclose(imgRead(\"saved_smallEXTRA_nofilter_s60.bmp\"), reimg_s_nof_60))\n",
    "print(np.allclose(imgRead(\"saved_smallEXTRA_withfilter_s60.bmp\"), reimg_s_f_60))"
   ]
  },
  {
   "cell_type": "code",
   "execution_count": null,
   "id": "56744d57",
   "metadata": {},
   "outputs": [],
   "source": []
  },
  {
   "cell_type": "code",
   "execution_count": null,
   "id": "7c42ea9f",
   "metadata": {},
   "outputs": [],
   "source": []
  },
  {
   "cell_type": "code",
   "execution_count": null,
   "id": "e47cf771",
   "metadata": {},
   "outputs": [],
   "source": []
  },
  {
   "cell_type": "code",
   "execution_count": null,
   "id": "878a945c",
   "metadata": {},
   "outputs": [],
   "source": []
  },
  {
   "cell_type": "code",
   "execution_count": null,
   "id": "dfe371fa",
   "metadata": {},
   "outputs": [],
   "source": []
  }
 ],
 "metadata": {
  "kernelspec": {
   "display_name": "Python 3 (ipykernel)",
   "language": "python",
   "name": "python3"
  },
  "language_info": {
   "codemirror_mode": {
    "name": "ipython",
    "version": 3
   },
   "file_extension": ".py",
   "mimetype": "text/x-python",
   "name": "python",
   "nbconvert_exporter": "python",
   "pygments_lexer": "ipython3",
   "version": "3.9.7"
  }
 },
 "nbformat": 4,
 "nbformat_minor": 5
}
